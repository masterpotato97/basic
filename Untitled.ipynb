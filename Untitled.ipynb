{
 "cells": [
  {
   "cell_type": "code",
   "execution_count": null,
   "id": "8cfd08c4",
   "metadata": {},
   "outputs": [],
   "source": [
    "Exercise #1\n",
    "Cube Number Test... Print out all cubed numbers up to the total value 1000. Meaning that if the cubed number is over 1000 break the loop.\n"
   ]
  },
  {
   "cell_type": "code",
   "execution_count": 5,
   "id": "d608c0e3",
   "metadata": {},
   "outputs": [],
   "source": [
    "def cubed():\n",
    "    num =[]\n",
    "    number=1\n",
    "    while True:\n",
    "        cube = number**3\n",
    "        if cube > 1000:\n",
    "            break\n",
    "        print(cube)\n",
    "        number += 1"
   ]
  },
  {
   "cell_type": "code",
   "execution_count": 6,
   "id": "eb1f987b",
   "metadata": {},
   "outputs": [
    {
     "name": "stdout",
     "output_type": "stream",
     "text": [
      "1\n",
      "8\n",
      "27\n",
      "64\n",
      "125\n",
      "216\n",
      "343\n",
      "512\n",
      "729\n",
      "1000\n"
     ]
    }
   ],
   "source": [
    "cubed()"
   ]
  },
  {
   "cell_type": "code",
   "execution_count": null,
   "id": "552864bd",
   "metadata": {},
   "outputs": [],
   "source": [
    "#Get first prime numbers up to 100\n",
    "\n",
    "# HINT::\n",
    "# An else after an if runs if the if didn’t\n",
    "# An else after a for runs if the for didn’t break"
   ]
  },
  {
   "cell_type": "code",
   "execution_count": 7,
   "id": "ee6d7204",
   "metadata": {},
   "outputs": [],
   "source": [
    "def is_prime(n):\n",
    "    if n <= 1:\n",
    "        return False\n",
    "    for i in range(2, int(n ** 0.5) + 1):\n",
    "        if n % i == 0:\n",
    "            return False\n",
    "    return True\n",
    "\n",
    "prime_numbers = []\n",
    "for num in range(2, 101):\n",
    "    if is_prime(num):\n",
    "        prime_numbers.append(num)\n",
    "    else:\n",
    "        continue\n",
    "\n"
   ]
  },
  {
   "cell_type": "code",
   "execution_count": 8,
   "id": "549699b3",
   "metadata": {},
   "outputs": [
    {
     "name": "stdout",
     "output_type": "stream",
     "text": [
      "[2, 3, 5, 7, 11, 13, 17, 19, 23, 29, 31, 37, 41, 43, 47, 53, 59, 61, 67, 71, 73, 79, 83, 89, 97]\n"
     ]
    }
   ],
   "source": [
    "print(prime_numbers)"
   ]
  },
  {
   "cell_type": "code",
   "execution_count": 38,
   "id": "910db540",
   "metadata": {},
   "outputs": [],
   "source": [
    "#Take in a users input for their age, if they are younger than 18 print kids, if they're 18 to 65 print adults, else print seniors. Gracefully log the error if the user doesn't enter a number\n",
    "def age(a):\n",
    "    try:\n",
    "        age_value = int(a)\n",
    "        if age_value < 18:\n",
    "            print(\"You are a kid.\")\n",
    "        elif age_value <= 65:\n",
    "            print(\"You are an adult.\")\n",
    "        else:\n",
    "            print(\"You are a senior.\")\n",
    "    except ValueError:\n",
    "        print(\"Please enter a valid age as a number.\")"
   ]
  },
  {
   "cell_type": "code",
   "execution_count": 39,
   "id": "50535af0",
   "metadata": {},
   "outputs": [
    {
     "name": "stdout",
     "output_type": "stream",
     "text": [
      "You are a kid.\n"
     ]
    }
   ],
   "source": [
    "age(4)"
   ]
  },
  {
   "cell_type": "code",
   "execution_count": 40,
   "id": "6d845738",
   "metadata": {},
   "outputs": [
    {
     "name": "stdout",
     "output_type": "stream",
     "text": [
      "You are an adult.\n"
     ]
    }
   ],
   "source": [
    "age(27)"
   ]
  },
  {
   "cell_type": "code",
   "execution_count": 41,
   "id": "e0df10ab",
   "metadata": {},
   "outputs": [
    {
     "name": "stdout",
     "output_type": "stream",
     "text": [
      "You are a senior.\n"
     ]
    }
   ],
   "source": [
    "age(68)"
   ]
  },
  {
   "cell_type": "code",
   "execution_count": 42,
   "id": "836c7d39",
   "metadata": {},
   "outputs": [
    {
     "name": "stdout",
     "output_type": "stream",
     "text": [
      "Please enter a valid age as a number.\n"
     ]
    }
   ],
   "source": [
    "age('g')"
   ]
  },
  {
   "cell_type": "code",
   "execution_count": null,
   "id": "5b445eda",
   "metadata": {},
   "outputs": [],
   "source": []
  }
 ],
 "metadata": {
  "kernelspec": {
   "display_name": "Python 3 (ipykernel)",
   "language": "python",
   "name": "python3"
  },
  "language_info": {
   "codemirror_mode": {
    "name": "ipython",
    "version": 3
   },
   "file_extension": ".py",
   "mimetype": "text/x-python",
   "name": "python",
   "nbconvert_exporter": "python",
   "pygments_lexer": "ipython3",
   "version": "3.10.9"
  }
 },
 "nbformat": 4,
 "nbformat_minor": 5
}
